{
 "cells": [
  {
   "cell_type": "code",
   "execution_count": 1,
   "id": "f1aa03d9",
   "metadata": {},
   "outputs": [],
   "source": [
    "import pandas as pd\n",
    "import numpy as np\n",
    "from sklearn.preprocessing import StandardScaler\n",
    "from sklearn.svm import SVC\n",
    "from sklearn.metrics import accuracy_score\n",
    "import joblib\n"
   ]
  },
  {
   "cell_type": "code",
   "execution_count": 2,
   "id": "9f2d343e",
   "metadata": {},
   "outputs": [],
   "source": [
    "# Load training and test datasets\n",
    "train_data = pd.read_csv(\"C:/Users/aditi/Downloads/train_motion_data.csv\")\n",
    "test_data = pd.read_csv(\"C:/Users/aditi/Downloads/test_motion_data.csv\")\n"
   ]
  },
  {
   "cell_type": "code",
   "execution_count": 3,
   "id": "401d310a",
   "metadata": {},
   "outputs": [],
   "source": [
    "# Load training and test datasets\n",
    "train_data = pd.read_csv(\"C:/Users/aditi/Downloads/train_motion_data.csv\")\n",
    "test_data = pd.read_csv(\"C:/Users/aditi/Downloads/test_motion_data.csv\")\n"
   ]
  },
  {
   "cell_type": "code",
   "execution_count": 13,
   "id": "39f7d7ff",
   "metadata": {},
   "outputs": [],
   "source": [
    "# Extract features and labels\n",
    "X_train = train_data[['AccX', 'AccY', 'AccZ', 'GyroX', 'GyroY', 'GyroZ']]\n",
    "y_train = train_data['Class']\n",
    "X_test = test_data[['AccX', 'AccY', 'AccZ', 'GyroX', 'GyroY', 'GyroZ']]\n",
    "y_test = test_data['Class']\n",
    "\n",
    "# Encode labels to numerical values\n",
    "label_encoder = LabelEncoder()\n",
    "y_train = label_encoder.fit_transform(y_train)\n",
    "y_test = y_test.map(lambda x: label_encoder.transform([x])[0])\n",
    "\n",
    "# Feature scaling\n",
    "scaler = StandardScaler()\n",
    "X_train_scaled = scaler.fit_transform(X_train)\n",
    "X_test_scaled = scaler.transform(X_test)\n",
    "\n"
   ]
  },
  {
   "cell_type": "code",
   "execution_count": 14,
   "id": "29846c33",
   "metadata": {},
   "outputs": [
    {
     "data": {
      "text/plain": [
       "['label_encoder.joblib']"
      ]
     },
     "execution_count": 14,
     "metadata": {},
     "output_type": "execute_result"
    }
   ],
   "source": [
    "# Train the SVM classifier\n",
    "svm_classifier = SVC(kernel='linear', C=1)\n",
    "svm_classifier.fit(X_train_scaled, y_train)\n",
    "\n",
    "# Save the trained scaler and classifier\n",
    "joblib.dump(scaler, \"scaler.joblib\")\n",
    "joblib.dump(svm_classifier, \"svm_classifier.joblib\")\n",
    "joblib.dump(label_encoder, \"label_encoder.joblib\")\n"
   ]
  },
  {
   "cell_type": "code",
   "execution_count": 15,
   "id": "03027c59",
   "metadata": {},
   "outputs": [
    {
     "name": "stdout",
     "output_type": "stream",
     "text": [
      "Test Accuracy: 0.41\n"
     ]
    }
   ],
   "source": [
    "# Make predictions on the test data\n",
    "y_pred = svm_classifier.predict(X_test_scaled)\n",
    "\n",
    "\n"
   ]
  },
  {
   "cell_type": "code",
   "execution_count": 16,
   "id": "d4725834",
   "metadata": {},
   "outputs": [
    {
     "name": "stdout",
     "output_type": "stream",
     "text": [
      "The predicted class for the new data point is: SLOW\n"
     ]
    },
    {
     "name": "stderr",
     "output_type": "stream",
     "text": [
      "C:\\Users\\aditi\\anaconda3\\lib\\site-packages\\sklearn\\base.py:450: UserWarning: X does not have valid feature names, but StandardScaler was fitted with feature names\n",
      "  warnings.warn(\n"
     ]
    }
   ],
   "source": [
    "# Example of a new data point\n",
    "new_data_point = np.array([[0.5, -0.2, 0.3, 0.01, 0.02, -0.01]])\n",
    "\n",
    "# Load the saved scaler and classifier\n",
    "scaler = joblib.load(\"scaler.joblib\")\n",
    "svm_classifier = joblib.load(\"svm_classifier.joblib\")\n",
    "label_encoder = joblib.load(\"label_encoder.joblib\")\n",
    "\n",
    "# Scale the new data point\n",
    "new_data_point_scaled = scaler.transform(new_data_point)\n",
    "\n",
    "# Predict the class of the new data point\n",
    "prediction = svm_classifier.predict(new_data_point_scaled)\n",
    "\n",
    "# Decode the prediction to the original class label\n",
    "predicted_class = label_encoder.inverse_transform(prediction)\n",
    "\n",
    "print(f\"The predicted class for the new data point is: {predicted_class[0]}\")\n"
   ]
  }
 ],
 "metadata": {
  "kernelspec": {
   "display_name": "Python 3 (ipykernel)",
   "language": "python",
   "name": "python3"
  },
  "language_info": {
   "codemirror_mode": {
    "name": "ipython",
    "version": 3
   },
   "file_extension": ".py",
   "mimetype": "text/x-python",
   "name": "python",
   "nbconvert_exporter": "python",
   "pygments_lexer": "ipython3",
   "version": "3.9.13"
  }
 },
 "nbformat": 4,
 "nbformat_minor": 5
}
